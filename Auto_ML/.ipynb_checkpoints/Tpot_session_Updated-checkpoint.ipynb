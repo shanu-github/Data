{
 "cells": [
  {
   "cell_type": "code",
   "execution_count": 22,
   "metadata": {},
   "outputs": [],
   "source": [
    "from project_common_utils.automl_module.tpot_module import tpot_classification\n",
    "from project_common_utils.automl_module.tpot_module import tpot_regression\n",
    "import pandas as pd"
   ]
  },
  {
   "cell_type": "code",
   "execution_count": 23,
   "metadata": {},
   "outputs": [
    {
     "name": "stdout",
     "output_type": "stream",
     "text": [
      "D:\\work\\Learnings\\Machine_Learning\\Auto_ML\n"
     ]
    }
   ],
   "source": [
    "import os\n",
    "\n",
    "path = os.getcwd()\n",
    "\n",
    "print(path)"
   ]
  },
  {
   "cell_type": "code",
   "execution_count": 24,
   "metadata": {},
   "outputs": [],
   "source": [
    "input_dir= path+\"/Data/\""
   ]
  },
  {
   "cell_type": "markdown",
   "metadata": {},
   "source": [
    "# Regression"
   ]
  },
  {
   "cell_type": "code",
   "execution_count": 25,
   "metadata": {},
   "outputs": [
    {
     "data": {
      "text/html": [
       "<div>\n",
       "<style scoped>\n",
       "    .dataframe tbody tr th:only-of-type {\n",
       "        vertical-align: middle;\n",
       "    }\n",
       "\n",
       "    .dataframe tbody tr th {\n",
       "        vertical-align: top;\n",
       "    }\n",
       "\n",
       "    .dataframe thead th {\n",
       "        text-align: right;\n",
       "    }\n",
       "</style>\n",
       "<table border=\"1\" class=\"dataframe\">\n",
       "  <thead>\n",
       "    <tr style=\"text-align: right;\">\n",
       "      <th></th>\n",
       "      <th>Q_INCA</th>\n",
       "      <th>p_druck_bereinigt_1</th>\n",
       "      <th>p_druck_bereinigt_2</th>\n",
       "      <th>p_druck_bereinigt_3</th>\n",
       "      <th>p_druck_bereinigt_4</th>\n",
       "      <th>p_druck_bereinigt_5</th>\n",
       "      <th>p_druck_bereinigt_6</th>\n",
       "      <th>p_druck_bereinigt_7</th>\n",
       "      <th>p_druck_bereinigt_8</th>\n",
       "      <th>p_druck_bereinigt_9</th>\n",
       "      <th>...</th>\n",
       "      <th>p_druck_bereinigt_12</th>\n",
       "      <th>p_druck_bereinigt_13</th>\n",
       "      <th>p_druck_bereinigt_14</th>\n",
       "      <th>p_druck_bereinigt_15</th>\n",
       "      <th>p_druck_bereinigt_16</th>\n",
       "      <th>p_druck_bereinigt_17</th>\n",
       "      <th>p_druck_bereinigt_18</th>\n",
       "      <th>p_druck_bereinigt_19</th>\n",
       "      <th>p_druck_bereinigt_20</th>\n",
       "      <th>nEng</th>\n",
       "    </tr>\n",
       "  </thead>\n",
       "  <tbody>\n",
       "    <tr>\n",
       "      <th>0</th>\n",
       "      <td>107.930000</td>\n",
       "      <td>-12598.000</td>\n",
       "      <td>-12574.000</td>\n",
       "      <td>-12751.0</td>\n",
       "      <td>-12706.00</td>\n",
       "      <td>-12499.000</td>\n",
       "      <td>-12633.00</td>\n",
       "      <td>-10307.000</td>\n",
       "      <td>-4624.4</td>\n",
       "      <td>0.000</td>\n",
       "      <td>...</td>\n",
       "      <td>-29293.000</td>\n",
       "      <td>-29049.00</td>\n",
       "      <td>-28966.000</td>\n",
       "      <td>-29179.000</td>\n",
       "      <td>-29312.000</td>\n",
       "      <td>-26048.000</td>\n",
       "      <td>-19656.00</td>\n",
       "      <td>-15257.00</td>\n",
       "      <td>-13027.000</td>\n",
       "      <td>826.67</td>\n",
       "    </tr>\n",
       "    <tr>\n",
       "      <th>1</th>\n",
       "      <td>28.280888</td>\n",
       "      <td>-3179.125</td>\n",
       "      <td>-3121.875</td>\n",
       "      <td>-3137.0</td>\n",
       "      <td>-3087.25</td>\n",
       "      <td>-3038.375</td>\n",
       "      <td>-3111.75</td>\n",
       "      <td>-3096.125</td>\n",
       "      <td>-2713.0</td>\n",
       "      <td>-98.875</td>\n",
       "      <td>...</td>\n",
       "      <td>-7233.375</td>\n",
       "      <td>-6860.75</td>\n",
       "      <td>-7789.875</td>\n",
       "      <td>-7283.625</td>\n",
       "      <td>-7266.375</td>\n",
       "      <td>-7515.625</td>\n",
       "      <td>-6931.75</td>\n",
       "      <td>-5085.25</td>\n",
       "      <td>-3598.375</td>\n",
       "      <td>953.50</td>\n",
       "    </tr>\n",
       "    <tr>\n",
       "      <th>2</th>\n",
       "      <td>28.806000</td>\n",
       "      <td>-4474.500</td>\n",
       "      <td>-5298.500</td>\n",
       "      <td>-4875.0</td>\n",
       "      <td>-4908.30</td>\n",
       "      <td>-4795.300</td>\n",
       "      <td>-4631.60</td>\n",
       "      <td>-4935.100</td>\n",
       "      <td>-4327.0</td>\n",
       "      <td>-2291.300</td>\n",
       "      <td>...</td>\n",
       "      <td>-8268.500</td>\n",
       "      <td>-8594.50</td>\n",
       "      <td>-10344.000</td>\n",
       "      <td>-8516.800</td>\n",
       "      <td>-10201.000</td>\n",
       "      <td>-9044.800</td>\n",
       "      <td>-9459.50</td>\n",
       "      <td>-6891.60</td>\n",
       "      <td>-6658.600</td>\n",
       "      <td>1353.50</td>\n",
       "    </tr>\n",
       "    <tr>\n",
       "      <th>3</th>\n",
       "      <td>33.176000</td>\n",
       "      <td>-4864.500</td>\n",
       "      <td>-3979.400</td>\n",
       "      <td>-4607.4</td>\n",
       "      <td>-4313.50</td>\n",
       "      <td>-4216.600</td>\n",
       "      <td>-4453.00</td>\n",
       "      <td>-4092.500</td>\n",
       "      <td>-3854.1</td>\n",
       "      <td>-1526.400</td>\n",
       "      <td>...</td>\n",
       "      <td>-7301.400</td>\n",
       "      <td>-8932.60</td>\n",
       "      <td>-9820.300</td>\n",
       "      <td>-9215.600</td>\n",
       "      <td>-9517.600</td>\n",
       "      <td>-9551.600</td>\n",
       "      <td>-9127.30</td>\n",
       "      <td>-6829.90</td>\n",
       "      <td>-4550.400</td>\n",
       "      <td>1006.80</td>\n",
       "    </tr>\n",
       "    <tr>\n",
       "      <th>4</th>\n",
       "      <td>43.536000</td>\n",
       "      <td>-9717.100</td>\n",
       "      <td>-6923.900</td>\n",
       "      <td>-8288.3</td>\n",
       "      <td>-8752.60</td>\n",
       "      <td>-6764.900</td>\n",
       "      <td>-8041.50</td>\n",
       "      <td>-8405.100</td>\n",
       "      <td>-7677.5</td>\n",
       "      <td>-5102.400</td>\n",
       "      <td>...</td>\n",
       "      <td>0.000</td>\n",
       "      <td>-6538.40</td>\n",
       "      <td>-12441.000</td>\n",
       "      <td>-10591.000</td>\n",
       "      <td>-12199.000</td>\n",
       "      <td>-14381.000</td>\n",
       "      <td>-12796.00</td>\n",
       "      <td>-10100.00</td>\n",
       "      <td>-10545.000</td>\n",
       "      <td>1847.00</td>\n",
       "    </tr>\n",
       "  </tbody>\n",
       "</table>\n",
       "<p>5 rows × 22 columns</p>\n",
       "</div>"
      ],
      "text/plain": [
       "       Q_INCA  p_druck_bereinigt_1  p_druck_bereinigt_2  p_druck_bereinigt_3  \\\n",
       "0  107.930000           -12598.000           -12574.000             -12751.0   \n",
       "1   28.280888            -3179.125            -3121.875              -3137.0   \n",
       "2   28.806000            -4474.500            -5298.500              -4875.0   \n",
       "3   33.176000            -4864.500            -3979.400              -4607.4   \n",
       "4   43.536000            -9717.100            -6923.900              -8288.3   \n",
       "\n",
       "   p_druck_bereinigt_4  p_druck_bereinigt_5  p_druck_bereinigt_6  \\\n",
       "0            -12706.00           -12499.000            -12633.00   \n",
       "1             -3087.25            -3038.375             -3111.75   \n",
       "2             -4908.30            -4795.300             -4631.60   \n",
       "3             -4313.50            -4216.600             -4453.00   \n",
       "4             -8752.60            -6764.900             -8041.50   \n",
       "\n",
       "   p_druck_bereinigt_7  p_druck_bereinigt_8  p_druck_bereinigt_9  ...  \\\n",
       "0           -10307.000              -4624.4                0.000  ...   \n",
       "1            -3096.125              -2713.0              -98.875  ...   \n",
       "2            -4935.100              -4327.0            -2291.300  ...   \n",
       "3            -4092.500              -3854.1            -1526.400  ...   \n",
       "4            -8405.100              -7677.5            -5102.400  ...   \n",
       "\n",
       "   p_druck_bereinigt_12  p_druck_bereinigt_13  p_druck_bereinigt_14  \\\n",
       "0            -29293.000             -29049.00            -28966.000   \n",
       "1             -7233.375              -6860.75             -7789.875   \n",
       "2             -8268.500              -8594.50            -10344.000   \n",
       "3             -7301.400              -8932.60             -9820.300   \n",
       "4                 0.000              -6538.40            -12441.000   \n",
       "\n",
       "   p_druck_bereinigt_15  p_druck_bereinigt_16  p_druck_bereinigt_17  \\\n",
       "0            -29179.000            -29312.000            -26048.000   \n",
       "1             -7283.625             -7266.375             -7515.625   \n",
       "2             -8516.800            -10201.000             -9044.800   \n",
       "3             -9215.600             -9517.600             -9551.600   \n",
       "4            -10591.000            -12199.000            -14381.000   \n",
       "\n",
       "   p_druck_bereinigt_18  p_druck_bereinigt_19  p_druck_bereinigt_20     nEng  \n",
       "0             -19656.00             -15257.00            -13027.000   826.67  \n",
       "1              -6931.75              -5085.25             -3598.375   953.50  \n",
       "2              -9459.50              -6891.60             -6658.600  1353.50  \n",
       "3              -9127.30              -6829.90             -4550.400  1006.80  \n",
       "4             -12796.00             -10100.00            -10545.000  1847.00  \n",
       "\n",
       "[5 rows x 22 columns]"
      ]
     },
     "execution_count": 25,
     "metadata": {},
     "output_type": "execute_result"
    }
   ],
   "source": [
    "rdata = pd.read_csv(input_dir+'train_icr.csv')\n",
    "rdata.head()"
   ]
  },
  {
   "cell_type": "code",
   "execution_count": 26,
   "metadata": {},
   "outputs": [],
   "source": [
    "from sklearn.model_selection import train_test_split\n",
    "\n",
    "traindata, testdata = train_test_split(rdata, test_size=0.3)\n",
    "\n",
    "traindata.to_csv(input_dir+\"traindata.csv\", index=False)\n",
    "testdata.to_csv(input_dir+\"testdata.csv\", index=False)"
   ]
  },
  {
   "cell_type": "markdown",
   "metadata": {},
   "source": [
    "This Method runs the TPOT algorithm and returns the results\n",
    "\n",
    "**:param filename**: (string) data filename\\\n",
    "**:param split_strategy**: (string) random or stratified sampling criteria\\\n",
    "**:param testsize**: (float) test size to used\\\n",
    "**:param seed**: (int) seed to be used for reproducibility\\\n",
    "**:param target_col**: (string) target column to be mentioned\\\n",
    "**:param internal_eval_metric**: (string) internal evaluation metric (r2, neg_mse, neg_mae, etc.)\\\n",
    "**:param generation**: (int) Number of iterations to the run pipeline optimization process\\\n",
    "**:param pop_size**: (int) Number of individuals to retain in the genetic programming population every generation\\\n",
    "**:param cpu_cores**: (int) number of cpu cores to be used\\\n",
    "**:param cat_col_names**: (string array) categorical column names\\\n",
    "**:param stratify_col**: (string) column to be used for stratified sampling\\\n",
    "**:param warmstart**: (boolean) Flag indicating whether the TPOT will reuse the population from previous calls to fit() (optional)\\\n",
    "**:param earlystop**: (int) How many generations TPOT checks whether there is no improvement in optimization process (optional)\\\n",
    "**:param cv_fold**: (int) specify the cv folds (optional)\n",
    "\n",
    "**:return**: returns model results, a .py file having the final pipeline and a excel file having predictions on test data\n",
    "\n",
    "http://epistasislab.github.io/tpot/api/"
   ]
  },
  {
   "cell_type": "code",
   "execution_count": 27,
   "metadata": {},
   "outputs": [
    {
     "name": "stdout",
     "output_type": "stream",
     "text": [
      "Modelling Starts!\n",
      "\n",
      "30 operators have been imported by TPOT.\n"
     ]
    },
    {
     "data": {
      "application/vnd.jupyter.widget-view+json": {
       "model_id": "",
       "version_major": 2,
       "version_minor": 0
      },
      "text/plain": [
       "HBox(children=(FloatProgress(value=0.0, description='Optimization Progress', max=60.0, style=ProgressStyle(des…"
      ]
     },
     "metadata": {},
     "output_type": "display_data"
    },
    {
     "name": "stdout",
     "output_type": "stream",
     "text": [
      "_pre_test decorator: _random_mutation_operator: num_test=0 Found array with 0 feature(s) (shape=(50, 0)) while a minimum of 1 is required..\n",
      "_pre_test decorator: _random_mutation_operator: num_test=1 Found array with 0 feature(s) (shape=(50, 0)) while a minimum of 1 is required..\n",
      "\n",
      "Generation 1 - Current Pareto front scores:\n",
      "-1\t-63.451681070363044\tRandomForestRegressor(input_matrix, RandomForestRegressor__bootstrap=True, RandomForestRegressor__max_features=0.7500000000000001, RandomForestRegressor__min_samples_leaf=11, RandomForestRegressor__min_samples_split=9, RandomForestRegressor__n_estimators=100)\n",
      "_pre_test decorator: _random_mutation_operator: num_test=0 '(slice(None, None, None), 0)' is an invalid key.restRegressor__bootstrap=True, RandomForestRegressor__max_features=0.7500000000000001, RandomForestRegressor__min_samples_leaf=11, RandomForestRegressor__min_samples_split=9, RandomForestRegressor__n_estimators=100)\n",
      "\n",
      "Generation 2 - Current Pareto front scores:\n",
      "-1\t-63.451681070363044\tRandomForestRegressor(input_matrix, RandomForestRegressor__bootstrap=True, RandomForestRegressor__max_features=0.7500000000000001, RandomForestRegressor__min_samples_leaf=11, RandomForestRegressor__min_samples_split=9, RandomForestRegressor__n_estimators=100)\n",
      "_pre_test decorator: _random_mutation_operator: num_test=0 '(slice(None, None, None), 0)' is an invalid key.restRegressor__bootstrap=True, RandomForestRegressor__max_features=0.7500000000000001, RandomForestRegressor__min_samples_leaf=9, RandomForestRegressor__min_samples_split=9, RandomForestRegressor__n_estimators=100)\n",
      "_pre_test decorator: _random_mutation_operator: num_test=0 feature_names mismatch: ['p_druck_bereinigt_1', 'p_druck_bereinigt_2', 'p_druck_bereinigt_3', 'p_druck_bereinigt_4', 'p_druck_bereinigt_5', 'p_druck_bereinigt_6', 'p_druck_bereinigt_7', 'p_druck_bereinigt_8', 'p_druck_bereinigt_9', 'p_druck_bereinigt_10', 'p_druck_bereinigt_11', 'p_druck_bereinigt_12', 'p_druck_bereinigt_13', 'p_druck_bereinigt_14', 'p_druck_bereinigt_15', 'p_druck_bereinigt_16', 'p_druck_bereinigt_17', 'p_druck_bereinigt_18', 'p_druck_bereinigt_19', 'p_druck_bereinigt_20', 'nEng'] ['f0', 'f1', 'f2', 'f3', 'f4', 'f5', 'f6', 'f7', 'f8', 'f9', 'f10', 'f11', 'f12', 'f13', 'f14', 'f15', 'f16', 'f17', 'f18', 'f19', 'f20']\n",
      "expected p_druck_bereinigt_8, p_druck_bereinigt_1, p_druck_bereinigt_9, nEng, p_druck_bereinigt_10, p_druck_bereinigt_12, p_druck_bereinigt_20, p_druck_bereinigt_7, p_druck_bereinigt_18, p_druck_bereinigt_6, p_druck_bereinigt_16, p_druck_bereinigt_3, p_druck_bereinigt_14, p_druck_bereinigt_13, p_druck_bereinigt_2, p_druck_bereinigt_19, p_druck_bereinigt_11, p_druck_bereinigt_15, p_druck_bereinigt_17, p_druck_bereinigt_5, p_druck_bereinigt_4 in input data\n",
      "training data did not have the following fields: f6, f4, f12, f16, f18, f20, f5, f1, f7, f9, f2, f14, f8, f0, f13, f10, f19, f11, f17, f3, f15.\n",
      "\n",
      "Generation 3 - Current Pareto front scores:\n",
      "-1\t-63.451681070363044\tRandomForestRegressor(input_matrix, RandomForestRegressor__bootstrap=True, RandomForestRegressor__max_features=0.7500000000000001, RandomForestRegressor__min_samples_leaf=11, RandomForestRegressor__min_samples_split=9, RandomForestRegressor__n_estimators=100)\n",
      "-2\t-44.08265158439466\tRandomForestRegressor(LassoLarsCV(input_matrix, LassoLarsCV__normalize=True), RandomForestRegressor__bootstrap=True, RandomForestRegressor__max_features=0.7500000000000001, RandomForestRegressor__min_samples_leaf=9, RandomForestRegressor__min_samples_split=9, RandomForestRegressor__n_estimators=100)\n",
      "Generation 4 - Current Pareto front scores:\n",
      "-1\t-53.652872883794636\tRandomForestRegressor(input_matrix, RandomForestRegressor__bootstrap=True, RandomForestRegressor__max_features=0.7500000000000001, RandomForestRegressor__min_samples_leaf=7, RandomForestRegressor__min_samples_split=13, RandomForestRegressor__n_estimators=100)\n",
      "-2\t-41.66328891368049\tDecisionTreeRegressor(RandomForestRegressor(input_matrix, RandomForestRegressor__bootstrap=False, RandomForestRegressor__max_features=0.5, RandomForestRegressor__min_samples_leaf=8, RandomForestRegressor__min_samples_split=9, RandomForestRegressor__n_estimators=100), DecisionTreeRegressor__max_depth=10, DecisionTreeRegressor__min_samples_leaf=17, DecisionTreeRegressor__min_samples_split=13)\n",
      "Generation 5 - Current Pareto front scores:\n",
      "-1\t-53.652872883794636\tRandomForestRegressor(input_matrix, RandomForestRegressor__bootstrap=True, RandomForestRegressor__max_features=0.7500000000000001, RandomForestRegressor__min_samples_leaf=7, RandomForestRegressor__min_samples_split=13, RandomForestRegressor__n_estimators=100)\n",
      "-2\t-40.5165764843425\tRandomForestRegressor(LassoLarsCV(input_matrix, LassoLarsCV__normalize=True), RandomForestRegressor__bootstrap=True, RandomForestRegressor__max_features=0.7500000000000001, RandomForestRegressor__min_samples_leaf=7, RandomForestRegressor__min_samples_split=9, RandomForestRegressor__n_estimators=100)Pipeline(steps=[('stackingestimator',\n",
      "                 StackingEstimator(estimator=LassoLarsCV())),\n",
      "                ('randomforestregressor',\n",
      "                 RandomForestRegressor(max_features=0.7500000000000001,\n",
      "                                       min_samples_leaf=7, min_samples_split=9,\n",
      "                                       random_state=42))])\n",
      "\n",
      "\n",
      "MSE score:  38.36738670415449\n",
      "\n",
      "RMSE score:  6.194141320970526\n",
      "\n",
      "R2 score:  0.989829577709146\n",
      "\n",
      "MAE score:  4.689772637975183\n",
      "\n",
      "Modelling ends!\n",
      "\n",
      "--- 22.671886352698007 minutes ---\n",
      "\n"
     ]
    }
   ],
   "source": [
    "results = tpot_regression(filename = input_dir+'traindata.csv',\n",
    "                          split_strategy = 'random',\n",
    "                          testsize = 0.3,\n",
    "                          seed = 42,\n",
    "                          target_col = 'Q_INCA',\n",
    "                          internal_eval_metric = 'neg_mean_squared_error',\n",
    "                          generation = 5,\n",
    "                          pop_size = 10,\n",
    "                          cpu_cores = 1,\n",
    "                          cat_col_names = None,\n",
    "                          stratify_col = None,\n",
    "                          warmstart = False,\n",
    "                          earlystop = 3,\n",
    "                          cv_fold = 5)"
   ]
  },
  {
   "cell_type": "code",
   "execution_count": 28,
   "metadata": {},
   "outputs": [],
   "source": [
    "target= 'Q_INCA'\n",
    "y_train = traindata[target] \n",
    "feature_names = traindata.columns.tolist()\n",
    "feature_names.remove(target)\n",
    "x_train = traindata[feature_names]\n",
    "\n",
    "x_test= testdata[feature_names]\n",
    "\n",
    "all_model_results=pd.DataFrame()"
   ]
  },
  {
   "cell_type": "code",
   "execution_count": 29,
   "metadata": {},
   "outputs": [],
   "source": [
    "#TPOT Code\n",
    "\n",
    "import numpy as np\n",
    "import pandas as pd\n",
    "from sklearn.ensemble import RandomForestRegressor\n",
    "from sklearn.linear_model import LassoLarsCV\n",
    "from sklearn.model_selection import train_test_split\n",
    "from sklearn.pipeline import make_pipeline, make_union\n",
    "from tpot.builtins import StackingEstimator\n",
    "from tpot.export_utils import set_param_recursive\n",
    "\n",
    "# Average CV score on the training set was: -33.28541844202323\n",
    "exported_pipeline = make_pipeline(\n",
    "    StackingEstimator(estimator=LassoLarsCV(normalize=True)),\n",
    "    RandomForestRegressor(bootstrap=True, max_features=0.7500000000000001, min_samples_leaf=7, min_samples_split=9, n_estimators=100)\n",
    ")\n",
    "# Fix random state for all the steps in exported pipeline\n",
    "set_param_recursive(exported_pipeline.steps, 'random_state', 42)\n",
    "\n",
    "exported_pipeline.fit(x_train, y_train)\n",
    "\n",
    "model_output=testdata.copy()\n",
    "model_output['Model']=\"TPOTRegression\"\n",
    "model_output['Pred_'+target]= exported_pipeline.predict(x_test)\n",
    "\n",
    "all_model_results= all_model_results.append(model_output)"
   ]
  },
  {
   "cell_type": "code",
   "execution_count": 31,
   "metadata": {},
   "outputs": [
    {
     "name": "stderr",
     "output_type": "stream",
     "text": [
      "Using TensorFlow backend.\n"
     ]
    },
    {
     "data": {
      "text/html": [
       "\n",
       "    <style>\n",
       "    table.eli5-weights tr:hover {\n",
       "        filter: brightness(85%);\n",
       "    }\n",
       "</style>\n",
       "\n",
       "\n",
       "\n",
       "    \n",
       "\n",
       "    \n",
       "\n",
       "    \n",
       "\n",
       "    \n",
       "\n",
       "    \n",
       "\n",
       "    \n",
       "\n",
       "\n",
       "    \n",
       "\n",
       "    \n",
       "\n",
       "    \n",
       "\n",
       "    \n",
       "\n",
       "    \n",
       "\n",
       "    \n",
       "\n",
       "\n",
       "    \n",
       "\n",
       "    \n",
       "\n",
       "    \n",
       "\n",
       "    \n",
       "\n",
       "    \n",
       "        <table class=\"eli5-weights eli5-feature-importances\" style=\"border-collapse: collapse; border: none; margin-top: 0em; table-layout: auto;\">\n",
       "    <thead>\n",
       "    <tr style=\"border: none;\">\n",
       "        <th style=\"padding: 0 1em 0 0.5em; text-align: right; border: none;\">Weight</th>\n",
       "        <th style=\"padding: 0 0.5em 0 0.5em; text-align: left; border: none;\">Feature</th>\n",
       "    </tr>\n",
       "    </thead>\n",
       "    <tbody>\n",
       "    \n",
       "        <tr style=\"background-color: hsl(120, 100.00%, 80.00%); border: none;\">\n",
       "            <td style=\"padding: 0 1em 0 0.5em; text-align: right; border: none;\">\n",
       "                1.5807\n",
       "                \n",
       "                    &plusmn; 0.0148\n",
       "                \n",
       "            </td>\n",
       "            <td style=\"padding: 0 0.5em 0 0.5em; text-align: left; border: none;\">\n",
       "                p_druck_bereinigt_16\n",
       "            </td>\n",
       "        </tr>\n",
       "    \n",
       "        <tr style=\"background-color: hsl(120, 100.00%, 89.62%); border: none;\">\n",
       "            <td style=\"padding: 0 1em 0 0.5em; text-align: right; border: none;\">\n",
       "                0.6192\n",
       "                \n",
       "                    &plusmn; 0.0129\n",
       "                \n",
       "            </td>\n",
       "            <td style=\"padding: 0 0.5em 0 0.5em; text-align: left; border: none;\">\n",
       "                p_druck_bereinigt_3\n",
       "            </td>\n",
       "        </tr>\n",
       "    \n",
       "        <tr style=\"background-color: hsl(120, 100.00%, 91.73%); border: none;\">\n",
       "            <td style=\"padding: 0 1em 0 0.5em; text-align: right; border: none;\">\n",
       "                0.4476\n",
       "                \n",
       "                    &plusmn; 0.0080\n",
       "                \n",
       "            </td>\n",
       "            <td style=\"padding: 0 0.5em 0 0.5em; text-align: left; border: none;\">\n",
       "                p_druck_bereinigt_15\n",
       "            </td>\n",
       "        </tr>\n",
       "    \n",
       "        <tr style=\"background-color: hsl(120, 100.00%, 93.11%); border: none;\">\n",
       "            <td style=\"padding: 0 1em 0 0.5em; text-align: right; border: none;\">\n",
       "                0.3450\n",
       "                \n",
       "                    &plusmn; 0.0030\n",
       "                \n",
       "            </td>\n",
       "            <td style=\"padding: 0 0.5em 0 0.5em; text-align: left; border: none;\">\n",
       "                p_druck_bereinigt_17\n",
       "            </td>\n",
       "        </tr>\n",
       "    \n",
       "        <tr style=\"background-color: hsl(120, 100.00%, 93.26%); border: none;\">\n",
       "            <td style=\"padding: 0 1em 0 0.5em; text-align: right; border: none;\">\n",
       "                0.3341\n",
       "                \n",
       "                    &plusmn; 0.0026\n",
       "                \n",
       "            </td>\n",
       "            <td style=\"padding: 0 0.5em 0 0.5em; text-align: left; border: none;\">\n",
       "                p_druck_bereinigt_4\n",
       "            </td>\n",
       "        </tr>\n",
       "    \n",
       "        <tr style=\"background-color: hsl(120, 100.00%, 95.33%); border: none;\">\n",
       "            <td style=\"padding: 0 1em 0 0.5em; text-align: right; border: none;\">\n",
       "                0.1978\n",
       "                \n",
       "                    &plusmn; 0.0018\n",
       "                \n",
       "            </td>\n",
       "            <td style=\"padding: 0 0.5em 0 0.5em; text-align: left; border: none;\">\n",
       "                p_druck_bereinigt_2\n",
       "            </td>\n",
       "        </tr>\n",
       "    \n",
       "        <tr style=\"background-color: hsl(120, 100.00%, 95.62%); border: none;\">\n",
       "            <td style=\"padding: 0 1em 0 0.5em; text-align: right; border: none;\">\n",
       "                0.1807\n",
       "                \n",
       "                    &plusmn; 0.0016\n",
       "                \n",
       "            </td>\n",
       "            <td style=\"padding: 0 0.5em 0 0.5em; text-align: left; border: none;\">\n",
       "                p_druck_bereinigt_19\n",
       "            </td>\n",
       "        </tr>\n",
       "    \n",
       "        <tr style=\"background-color: hsl(120, 100.00%, 95.75%); border: none;\">\n",
       "            <td style=\"padding: 0 1em 0 0.5em; text-align: right; border: none;\">\n",
       "                0.1729\n",
       "                \n",
       "                    &plusmn; 0.0040\n",
       "                \n",
       "            </td>\n",
       "            <td style=\"padding: 0 0.5em 0 0.5em; text-align: left; border: none;\">\n",
       "                p_druck_bereinigt_14\n",
       "            </td>\n",
       "        </tr>\n",
       "    \n",
       "        <tr style=\"background-color: hsl(120, 100.00%, 97.46%); border: none;\">\n",
       "            <td style=\"padding: 0 1em 0 0.5em; text-align: right; border: none;\">\n",
       "                0.0828\n",
       "                \n",
       "                    &plusmn; 0.0021\n",
       "                \n",
       "            </td>\n",
       "            <td style=\"padding: 0 0.5em 0 0.5em; text-align: left; border: none;\">\n",
       "                p_druck_bereinigt_6\n",
       "            </td>\n",
       "        </tr>\n",
       "    \n",
       "        <tr style=\"background-color: hsl(120, 100.00%, 97.78%); border: none;\">\n",
       "            <td style=\"padding: 0 1em 0 0.5em; text-align: right; border: none;\">\n",
       "                0.0684\n",
       "                \n",
       "                    &plusmn; 0.0004\n",
       "                \n",
       "            </td>\n",
       "            <td style=\"padding: 0 0.5em 0 0.5em; text-align: left; border: none;\">\n",
       "                nEng\n",
       "            </td>\n",
       "        </tr>\n",
       "    \n",
       "        <tr style=\"background-color: hsl(120, 100.00%, 97.81%); border: none;\">\n",
       "            <td style=\"padding: 0 1em 0 0.5em; text-align: right; border: none;\">\n",
       "                0.0670\n",
       "                \n",
       "                    &plusmn; 0.0009\n",
       "                \n",
       "            </td>\n",
       "            <td style=\"padding: 0 0.5em 0 0.5em; text-align: left; border: none;\">\n",
       "                p_druck_bereinigt_18\n",
       "            </td>\n",
       "        </tr>\n",
       "    \n",
       "        <tr style=\"background-color: hsl(120, 100.00%, 98.07%); border: none;\">\n",
       "            <td style=\"padding: 0 1em 0 0.5em; text-align: right; border: none;\">\n",
       "                0.0558\n",
       "                \n",
       "                    &plusmn; 0.0018\n",
       "                \n",
       "            </td>\n",
       "            <td style=\"padding: 0 0.5em 0 0.5em; text-align: left; border: none;\">\n",
       "                p_druck_bereinigt_8\n",
       "            </td>\n",
       "        </tr>\n",
       "    \n",
       "        <tr style=\"background-color: hsl(120, 100.00%, 98.30%); border: none;\">\n",
       "            <td style=\"padding: 0 1em 0 0.5em; text-align: right; border: none;\">\n",
       "                0.0469\n",
       "                \n",
       "                    &plusmn; 0.0014\n",
       "                \n",
       "            </td>\n",
       "            <td style=\"padding: 0 0.5em 0 0.5em; text-align: left; border: none;\">\n",
       "                p_druck_bereinigt_13\n",
       "            </td>\n",
       "        </tr>\n",
       "    \n",
       "        <tr style=\"background-color: hsl(120, 100.00%, 98.41%); border: none;\">\n",
       "            <td style=\"padding: 0 1em 0 0.5em; text-align: right; border: none;\">\n",
       "                0.0424\n",
       "                \n",
       "                    &plusmn; 0.0006\n",
       "                \n",
       "            </td>\n",
       "            <td style=\"padding: 0 0.5em 0 0.5em; text-align: left; border: none;\">\n",
       "                p_druck_bereinigt_1\n",
       "            </td>\n",
       "        </tr>\n",
       "    \n",
       "        <tr style=\"background-color: hsl(120, 100.00%, 98.47%); border: none;\">\n",
       "            <td style=\"padding: 0 1em 0 0.5em; text-align: right; border: none;\">\n",
       "                0.0403\n",
       "                \n",
       "                    &plusmn; 0.0007\n",
       "                \n",
       "            </td>\n",
       "            <td style=\"padding: 0 0.5em 0 0.5em; text-align: left; border: none;\">\n",
       "                p_druck_bereinigt_20\n",
       "            </td>\n",
       "        </tr>\n",
       "    \n",
       "        <tr style=\"background-color: hsl(120, 100.00%, 99.35%); border: none;\">\n",
       "            <td style=\"padding: 0 1em 0 0.5em; text-align: right; border: none;\">\n",
       "                0.0117\n",
       "                \n",
       "                    &plusmn; 0.0005\n",
       "                \n",
       "            </td>\n",
       "            <td style=\"padding: 0 0.5em 0 0.5em; text-align: left; border: none;\">\n",
       "                p_druck_bereinigt_7\n",
       "            </td>\n",
       "        </tr>\n",
       "    \n",
       "        <tr style=\"background-color: hsl(120, 100.00%, 99.56%); border: none;\">\n",
       "            <td style=\"padding: 0 1em 0 0.5em; text-align: right; border: none;\">\n",
       "                0.0067\n",
       "                \n",
       "                    &plusmn; 0.0001\n",
       "                \n",
       "            </td>\n",
       "            <td style=\"padding: 0 0.5em 0 0.5em; text-align: left; border: none;\">\n",
       "                p_druck_bereinigt_12\n",
       "            </td>\n",
       "        </tr>\n",
       "    \n",
       "        <tr style=\"background-color: hsl(120, 100.00%, 99.60%); border: none;\">\n",
       "            <td style=\"padding: 0 1em 0 0.5em; text-align: right; border: none;\">\n",
       "                0.0059\n",
       "                \n",
       "                    &plusmn; 0.0002\n",
       "                \n",
       "            </td>\n",
       "            <td style=\"padding: 0 0.5em 0 0.5em; text-align: left; border: none;\">\n",
       "                p_druck_bereinigt_9\n",
       "            </td>\n",
       "        </tr>\n",
       "    \n",
       "        <tr style=\"background-color: hsl(120, 100.00%, 99.67%); border: none;\">\n",
       "            <td style=\"padding: 0 1em 0 0.5em; text-align: right; border: none;\">\n",
       "                0.0045\n",
       "                \n",
       "                    &plusmn; 0.0001\n",
       "                \n",
       "            </td>\n",
       "            <td style=\"padding: 0 0.5em 0 0.5em; text-align: left; border: none;\">\n",
       "                p_druck_bereinigt_11\n",
       "            </td>\n",
       "        </tr>\n",
       "    \n",
       "        <tr style=\"background-color: hsl(120, 100.00%, 99.71%); border: none;\">\n",
       "            <td style=\"padding: 0 1em 0 0.5em; text-align: right; border: none;\">\n",
       "                0.0037\n",
       "                \n",
       "                    &plusmn; 0.0001\n",
       "                \n",
       "            </td>\n",
       "            <td style=\"padding: 0 0.5em 0 0.5em; text-align: left; border: none;\">\n",
       "                p_druck_bereinigt_5\n",
       "            </td>\n",
       "        </tr>\n",
       "    \n",
       "    \n",
       "        \n",
       "            <tr style=\"background-color: hsl(120, 100.00%, 99.71%); border: none;\">\n",
       "                <td colspan=\"2\" style=\"padding: 0 0.5em 0 0.5em; text-align: center; border: none; white-space: nowrap;\">\n",
       "                    <i>&hellip; 1 more &hellip;</i>\n",
       "                </td>\n",
       "            </tr>\n",
       "        \n",
       "    \n",
       "    </tbody>\n",
       "</table>\n",
       "    \n",
       "\n",
       "    \n",
       "\n",
       "\n",
       "    \n",
       "\n",
       "    \n",
       "\n",
       "    \n",
       "\n",
       "    \n",
       "\n",
       "    \n",
       "\n",
       "    \n",
       "\n",
       "\n",
       "\n"
      ],
      "text/plain": [
       "<IPython.core.display.HTML object>"
      ]
     },
     "execution_count": 31,
     "metadata": {},
     "output_type": "execute_result"
    }
   ],
   "source": [
    "import eli5\n",
    "from eli5.sklearn import PermutationImportance\n",
    "\n",
    "perm = PermutationImportance(exported_pipeline, random_state=1).fit(x_train, y_train)\n",
    "eli5.show_weights(perm, feature_names = x_train.columns.tolist())"
   ]
  },
  {
   "cell_type": "code",
   "execution_count": 32,
   "metadata": {
    "scrolled": true
   },
   "outputs": [],
   "source": [
    "from sklearn.linear_model import LinearRegression\n",
    "# Create linear regression object using Scikit learn\n",
    "regr = LinearRegression()\n",
    "# Train the model using the training sets\n",
    "regr.fit(x_train, y_train)\n",
    "model_output=testdata.copy()\n",
    "model_output['Model']=\"LinearRegression\"\n",
    "model_output['Pred_'+target]= regr.predict(x_test)\n",
    "\n",
    "all_model_results= all_model_results.append(model_output)"
   ]
  },
  {
   "cell_type": "code",
   "execution_count": 33,
   "metadata": {},
   "outputs": [],
   "source": [
    "from sklearn.linear_model import LassoCV\n",
    "# Alpha (regularization strength) of LASSO regression\n",
    "lasso_eps = 0.0001\n",
    "lasso_nalpha=20\n",
    "lasso_iter=10000\n",
    "model= LassoCV(eps=lasso_eps,n_alphas=lasso_nalpha,max_iter=lasso_iter, normalize=True,cv=5)\n",
    "model.fit(x_train,y_train)\n",
    "\n",
    "model_output=testdata.copy()\n",
    "model_output['Model']=\"LassoRegression\"\n",
    "model_output['Pred_'+target]= model.predict(x_test)\n",
    "\n",
    "all_model_results= all_model_results.append(model_output)"
   ]
  },
  {
   "cell_type": "code",
   "execution_count": 34,
   "metadata": {},
   "outputs": [],
   "source": [
    "from sklearn.svm import SVR\n",
    "from sklearn.preprocessing import StandardScaler\n",
    "scaler = StandardScaler()  \n",
    "scaler.fit(x_train)\n",
    "\n",
    "sx_train = scaler.transform(x_train)  \n",
    "sx_test = scaler.transform(x_test)  \n",
    "regression_model = SVR(kernel = 'rbf') \n",
    "regression_model.fit(sx_train, y_train) \n",
    "\n",
    "model_output=testdata.copy()\n",
    "model_output['Model']=\"SVMRegression\"\n",
    "model_output['Pred_'+target]= regression_model.predict(sx_test)\n",
    "\n",
    "all_model_results= all_model_results.append(model_output)"
   ]
  },
  {
   "cell_type": "code",
   "execution_count": 35,
   "metadata": {},
   "outputs": [],
   "source": [
    "from sklearn.ensemble import AdaBoostRegressor\n",
    "regr = AdaBoostRegressor(random_state=0, n_estimators=100)\n",
    "# Train the model using the training sets\n",
    "regr.fit(x_train, y_train)\n",
    "model_output=testdata.copy()\n",
    "model_output['Model']=\"AdaBoostRegression\"\n",
    "model_output['Pred_'+target]= regr.predict(x_test)\n",
    "\n",
    "all_model_results= all_model_results.append(model_output)"
   ]
  },
  {
   "cell_type": "code",
   "execution_count": 36,
   "metadata": {},
   "outputs": [],
   "source": [
    "from sklearn.ensemble import RandomForestRegressor\n",
    "rm_model = RandomForestRegressor(random_state=0)\n",
    "rm_model.fit(x_train, y_train)\n",
    "\n",
    "model_output=testdata.copy()\n",
    "model_output['Model']=\"RandomForest\"\n",
    "model_output['Pred_'+target]= rm_model.predict(x_test)\n",
    "\n",
    "all_model_results= all_model_results.append(model_output)"
   ]
  },
  {
   "cell_type": "code",
   "execution_count": 37,
   "metadata": {},
   "outputs": [],
   "source": [
    "from sklearn.ensemble import GradientBoostingRegressor\n",
    "reg = GradientBoostingRegressor(random_state=0)\n",
    "reg.fit(x_train, y_train)\n",
    "\n",
    "model_output=testdata.copy()\n",
    "model_output['Model']=\"GradientBoosting\"\n",
    "model_output['Pred_'+target]= reg.predict(x_test)\n",
    "\n",
    "all_model_results= all_model_results.append(model_output)"
   ]
  },
  {
   "cell_type": "code",
   "execution_count": 38,
   "metadata": {},
   "outputs": [],
   "source": [
    "from sklearn.neighbors import KNeighborsRegressor\n",
    "from sklearn.preprocessing import StandardScaler\n",
    "scaler = StandardScaler()  \n",
    "scaler.fit(x_train)\n",
    "\n",
    "sx_train = scaler.transform(x_train)  \n",
    "sx_test = scaler.transform(x_test)  \n",
    "regression_model = KNeighborsRegressor(n_neighbors=5,weights='distance')  \n",
    "regression_model.fit(sx_train, y_train) \n",
    "\n",
    "\n",
    "model_output=testdata.copy()\n",
    "model_output['Model']=\"KNeighborsRegressor\"\n",
    "model_output['Pred_'+target]= regression_model.predict(sx_test)\n",
    "\n",
    "all_model_results= all_model_results.append(model_output)"
   ]
  },
  {
   "cell_type": "code",
   "execution_count": 39,
   "metadata": {},
   "outputs": [],
   "source": [
    "import sklearn\n",
    "from math import sqrt\n",
    "from statistics import *\n",
    "all_models = all_model_results['Model'].unique()\n",
    "\n",
    "eval_data=pd.DataFrame()\n",
    "for model in all_models:\n",
    "    test_data= all_model_results[all_model_results['Model']==model]\n",
    "    mse_error= sklearn.metrics.mean_squared_error(test_data[[target]], test_data[['Pred_'+target]])\n",
    "    rmse_error= sqrt(sklearn.metrics.mean_squared_error(test_data[[target]], test_data[['Pred_'+target]]))\n",
    "    r2_value= sklearn.metrics.r2_score(test_data[[target]], test_data[['Pred_'+target]])\n",
    "    mae_error= sklearn.metrics.mean_absolute_error(test_data[[target]], test_data[['Pred_'+target]])\n",
    "    mape_error= mean(abs((test_data['Pred_'+target]/test_data[target])-1))*100\n",
    "    df = {'Regression_Model': [model],'mse_error':[mse_error], 'rmse_error': [rmse_error],\n",
    "         'r2_value':[r2_value], 'mae_error': [mae_error],'mape_error': [mape_error]}\n",
    "    eval_data = eval_data.append(pd.DataFrame(df))"
   ]
  },
  {
   "cell_type": "code",
   "execution_count": 40,
   "metadata": {},
   "outputs": [
    {
     "data": {
      "text/html": [
       "<div>\n",
       "<style scoped>\n",
       "    .dataframe tbody tr th:only-of-type {\n",
       "        vertical-align: middle;\n",
       "    }\n",
       "\n",
       "    .dataframe tbody tr th {\n",
       "        vertical-align: top;\n",
       "    }\n",
       "\n",
       "    .dataframe thead th {\n",
       "        text-align: right;\n",
       "    }\n",
       "</style>\n",
       "<table border=\"1\" class=\"dataframe\">\n",
       "  <thead>\n",
       "    <tr style=\"text-align: right;\">\n",
       "      <th></th>\n",
       "      <th>Regression_Model</th>\n",
       "      <th>mse_error</th>\n",
       "      <th>rmse_error</th>\n",
       "      <th>r2_value</th>\n",
       "      <th>mae_error</th>\n",
       "      <th>mape_error</th>\n",
       "    </tr>\n",
       "  </thead>\n",
       "  <tbody>\n",
       "    <tr>\n",
       "      <th>0</th>\n",
       "      <td>TPOTRegression</td>\n",
       "      <td>30.129880</td>\n",
       "      <td>5.489069</td>\n",
       "      <td>0.991663</td>\n",
       "      <td>4.126817</td>\n",
       "      <td>4.677797</td>\n",
       "    </tr>\n",
       "    <tr>\n",
       "      <th>0</th>\n",
       "      <td>LinearRegression</td>\n",
       "      <td>142.853396</td>\n",
       "      <td>11.952129</td>\n",
       "      <td>0.960471</td>\n",
       "      <td>9.162176</td>\n",
       "      <td>11.089962</td>\n",
       "    </tr>\n",
       "    <tr>\n",
       "      <th>0</th>\n",
       "      <td>LassoRegression</td>\n",
       "      <td>143.339847</td>\n",
       "      <td>11.972462</td>\n",
       "      <td>0.960337</td>\n",
       "      <td>9.182812</td>\n",
       "      <td>11.100982</td>\n",
       "    </tr>\n",
       "    <tr>\n",
       "      <th>0</th>\n",
       "      <td>SVMRegression</td>\n",
       "      <td>61.695302</td>\n",
       "      <td>7.854636</td>\n",
       "      <td>0.982928</td>\n",
       "      <td>6.076225</td>\n",
       "      <td>6.932807</td>\n",
       "    </tr>\n",
       "    <tr>\n",
       "      <th>0</th>\n",
       "      <td>AdaBoostRegression</td>\n",
       "      <td>174.130923</td>\n",
       "      <td>13.195868</td>\n",
       "      <td>0.951817</td>\n",
       "      <td>10.943752</td>\n",
       "      <td>14.228903</td>\n",
       "    </tr>\n",
       "    <tr>\n",
       "      <th>0</th>\n",
       "      <td>RandomForest</td>\n",
       "      <td>23.358678</td>\n",
       "      <td>4.833082</td>\n",
       "      <td>0.993536</td>\n",
       "      <td>3.340651</td>\n",
       "      <td>3.871433</td>\n",
       "    </tr>\n",
       "    <tr>\n",
       "      <th>0</th>\n",
       "      <td>GradientBoosting</td>\n",
       "      <td>74.390715</td>\n",
       "      <td>8.625005</td>\n",
       "      <td>0.979415</td>\n",
       "      <td>6.874047</td>\n",
       "      <td>7.891107</td>\n",
       "    </tr>\n",
       "    <tr>\n",
       "      <th>0</th>\n",
       "      <td>KNeighborsRegressor</td>\n",
       "      <td>28.757548</td>\n",
       "      <td>5.362606</td>\n",
       "      <td>0.992043</td>\n",
       "      <td>2.697100</td>\n",
       "      <td>2.992661</td>\n",
       "    </tr>\n",
       "  </tbody>\n",
       "</table>\n",
       "</div>"
      ],
      "text/plain": [
       "      Regression_Model   mse_error  rmse_error  r2_value  mae_error  \\\n",
       "0       TPOTRegression   30.129880    5.489069  0.991663   4.126817   \n",
       "0     LinearRegression  142.853396   11.952129  0.960471   9.162176   \n",
       "0      LassoRegression  143.339847   11.972462  0.960337   9.182812   \n",
       "0        SVMRegression   61.695302    7.854636  0.982928   6.076225   \n",
       "0   AdaBoostRegression  174.130923   13.195868  0.951817  10.943752   \n",
       "0         RandomForest   23.358678    4.833082  0.993536   3.340651   \n",
       "0     GradientBoosting   74.390715    8.625005  0.979415   6.874047   \n",
       "0  KNeighborsRegressor   28.757548    5.362606  0.992043   2.697100   \n",
       "\n",
       "   mape_error  \n",
       "0    4.677797  \n",
       "0   11.089962  \n",
       "0   11.100982  \n",
       "0    6.932807  \n",
       "0   14.228903  \n",
       "0    3.871433  \n",
       "0    7.891107  \n",
       "0    2.992661  "
      ]
     },
     "execution_count": 40,
     "metadata": {},
     "output_type": "execute_result"
    }
   ],
   "source": [
    "eval_data"
   ]
  },
  {
   "cell_type": "code",
   "execution_count": 41,
   "metadata": {},
   "outputs": [
    {
     "data": {
      "application/vnd.plotly.v1+json": {
       "config": {
        "plotlyServerURL": "https://plot.ly"
       },
       "data": [
        {
         "alignmentgroup": "True",
         "hoverlabel": {
          "namelength": 0
         },
         "hovertemplate": "Regression_Model=%{x}<br>mape_error=%{y}",
         "legendgroup": "",
         "marker": {
          "color": "#636efa"
         },
         "name": "",
         "offsetgroup": "",
         "orientation": "v",
         "showlegend": false,
         "textposition": "auto",
         "type": "bar",
         "x": [
          "TPOTRegression",
          "LinearRegression",
          "LassoRegression",
          "SVMRegression",
          "AdaBoostRegression",
          "RandomForest",
          "GradientBoosting",
          "KNeighborsRegressor"
         ],
         "xaxis": "x",
         "y": [
          4.677797465978681,
          11.089962489324051,
          11.100982166281002,
          6.932807280735917,
          14.228902590667614,
          3.8714333392348013,
          7.891107082301514,
          2.9926605441791927
         ],
         "yaxis": "y"
        }
       ],
       "layout": {
        "barmode": "relative",
        "legend": {
         "tracegroupgap": 0
        },
        "margin": {
         "t": 60
        },
        "template": {
         "data": {
          "bar": [
           {
            "error_x": {
             "color": "#2a3f5f"
            },
            "error_y": {
             "color": "#2a3f5f"
            },
            "marker": {
             "line": {
              "color": "#E5ECF6",
              "width": 0.5
             }
            },
            "type": "bar"
           }
          ],
          "barpolar": [
           {
            "marker": {
             "line": {
              "color": "#E5ECF6",
              "width": 0.5
             }
            },
            "type": "barpolar"
           }
          ],
          "carpet": [
           {
            "aaxis": {
             "endlinecolor": "#2a3f5f",
             "gridcolor": "white",
             "linecolor": "white",
             "minorgridcolor": "white",
             "startlinecolor": "#2a3f5f"
            },
            "baxis": {
             "endlinecolor": "#2a3f5f",
             "gridcolor": "white",
             "linecolor": "white",
             "minorgridcolor": "white",
             "startlinecolor": "#2a3f5f"
            },
            "type": "carpet"
           }
          ],
          "choropleth": [
           {
            "colorbar": {
             "outlinewidth": 0,
             "ticks": ""
            },
            "type": "choropleth"
           }
          ],
          "contour": [
           {
            "colorbar": {
             "outlinewidth": 0,
             "ticks": ""
            },
            "colorscale": [
             [
              0,
              "#0d0887"
             ],
             [
              0.1111111111111111,
              "#46039f"
             ],
             [
              0.2222222222222222,
              "#7201a8"
             ],
             [
              0.3333333333333333,
              "#9c179e"
             ],
             [
              0.4444444444444444,
              "#bd3786"
             ],
             [
              0.5555555555555556,
              "#d8576b"
             ],
             [
              0.6666666666666666,
              "#ed7953"
             ],
             [
              0.7777777777777778,
              "#fb9f3a"
             ],
             [
              0.8888888888888888,
              "#fdca26"
             ],
             [
              1,
              "#f0f921"
             ]
            ],
            "type": "contour"
           }
          ],
          "contourcarpet": [
           {
            "colorbar": {
             "outlinewidth": 0,
             "ticks": ""
            },
            "type": "contourcarpet"
           }
          ],
          "heatmap": [
           {
            "colorbar": {
             "outlinewidth": 0,
             "ticks": ""
            },
            "colorscale": [
             [
              0,
              "#0d0887"
             ],
             [
              0.1111111111111111,
              "#46039f"
             ],
             [
              0.2222222222222222,
              "#7201a8"
             ],
             [
              0.3333333333333333,
              "#9c179e"
             ],
             [
              0.4444444444444444,
              "#bd3786"
             ],
             [
              0.5555555555555556,
              "#d8576b"
             ],
             [
              0.6666666666666666,
              "#ed7953"
             ],
             [
              0.7777777777777778,
              "#fb9f3a"
             ],
             [
              0.8888888888888888,
              "#fdca26"
             ],
             [
              1,
              "#f0f921"
             ]
            ],
            "type": "heatmap"
           }
          ],
          "heatmapgl": [
           {
            "colorbar": {
             "outlinewidth": 0,
             "ticks": ""
            },
            "colorscale": [
             [
              0,
              "#0d0887"
             ],
             [
              0.1111111111111111,
              "#46039f"
             ],
             [
              0.2222222222222222,
              "#7201a8"
             ],
             [
              0.3333333333333333,
              "#9c179e"
             ],
             [
              0.4444444444444444,
              "#bd3786"
             ],
             [
              0.5555555555555556,
              "#d8576b"
             ],
             [
              0.6666666666666666,
              "#ed7953"
             ],
             [
              0.7777777777777778,
              "#fb9f3a"
             ],
             [
              0.8888888888888888,
              "#fdca26"
             ],
             [
              1,
              "#f0f921"
             ]
            ],
            "type": "heatmapgl"
           }
          ],
          "histogram": [
           {
            "marker": {
             "colorbar": {
              "outlinewidth": 0,
              "ticks": ""
             }
            },
            "type": "histogram"
           }
          ],
          "histogram2d": [
           {
            "colorbar": {
             "outlinewidth": 0,
             "ticks": ""
            },
            "colorscale": [
             [
              0,
              "#0d0887"
             ],
             [
              0.1111111111111111,
              "#46039f"
             ],
             [
              0.2222222222222222,
              "#7201a8"
             ],
             [
              0.3333333333333333,
              "#9c179e"
             ],
             [
              0.4444444444444444,
              "#bd3786"
             ],
             [
              0.5555555555555556,
              "#d8576b"
             ],
             [
              0.6666666666666666,
              "#ed7953"
             ],
             [
              0.7777777777777778,
              "#fb9f3a"
             ],
             [
              0.8888888888888888,
              "#fdca26"
             ],
             [
              1,
              "#f0f921"
             ]
            ],
            "type": "histogram2d"
           }
          ],
          "histogram2dcontour": [
           {
            "colorbar": {
             "outlinewidth": 0,
             "ticks": ""
            },
            "colorscale": [
             [
              0,
              "#0d0887"
             ],
             [
              0.1111111111111111,
              "#46039f"
             ],
             [
              0.2222222222222222,
              "#7201a8"
             ],
             [
              0.3333333333333333,
              "#9c179e"
             ],
             [
              0.4444444444444444,
              "#bd3786"
             ],
             [
              0.5555555555555556,
              "#d8576b"
             ],
             [
              0.6666666666666666,
              "#ed7953"
             ],
             [
              0.7777777777777778,
              "#fb9f3a"
             ],
             [
              0.8888888888888888,
              "#fdca26"
             ],
             [
              1,
              "#f0f921"
             ]
            ],
            "type": "histogram2dcontour"
           }
          ],
          "mesh3d": [
           {
            "colorbar": {
             "outlinewidth": 0,
             "ticks": ""
            },
            "type": "mesh3d"
           }
          ],
          "parcoords": [
           {
            "line": {
             "colorbar": {
              "outlinewidth": 0,
              "ticks": ""
             }
            },
            "type": "parcoords"
           }
          ],
          "pie": [
           {
            "automargin": true,
            "type": "pie"
           }
          ],
          "scatter": [
           {
            "marker": {
             "colorbar": {
              "outlinewidth": 0,
              "ticks": ""
             }
            },
            "type": "scatter"
           }
          ],
          "scatter3d": [
           {
            "line": {
             "colorbar": {
              "outlinewidth": 0,
              "ticks": ""
             }
            },
            "marker": {
             "colorbar": {
              "outlinewidth": 0,
              "ticks": ""
             }
            },
            "type": "scatter3d"
           }
          ],
          "scattercarpet": [
           {
            "marker": {
             "colorbar": {
              "outlinewidth": 0,
              "ticks": ""
             }
            },
            "type": "scattercarpet"
           }
          ],
          "scattergeo": [
           {
            "marker": {
             "colorbar": {
              "outlinewidth": 0,
              "ticks": ""
             }
            },
            "type": "scattergeo"
           }
          ],
          "scattergl": [
           {
            "marker": {
             "colorbar": {
              "outlinewidth": 0,
              "ticks": ""
             }
            },
            "type": "scattergl"
           }
          ],
          "scattermapbox": [
           {
            "marker": {
             "colorbar": {
              "outlinewidth": 0,
              "ticks": ""
             }
            },
            "type": "scattermapbox"
           }
          ],
          "scatterpolar": [
           {
            "marker": {
             "colorbar": {
              "outlinewidth": 0,
              "ticks": ""
             }
            },
            "type": "scatterpolar"
           }
          ],
          "scatterpolargl": [
           {
            "marker": {
             "colorbar": {
              "outlinewidth": 0,
              "ticks": ""
             }
            },
            "type": "scatterpolargl"
           }
          ],
          "scatterternary": [
           {
            "marker": {
             "colorbar": {
              "outlinewidth": 0,
              "ticks": ""
             }
            },
            "type": "scatterternary"
           }
          ],
          "surface": [
           {
            "colorbar": {
             "outlinewidth": 0,
             "ticks": ""
            },
            "colorscale": [
             [
              0,
              "#0d0887"
             ],
             [
              0.1111111111111111,
              "#46039f"
             ],
             [
              0.2222222222222222,
              "#7201a8"
             ],
             [
              0.3333333333333333,
              "#9c179e"
             ],
             [
              0.4444444444444444,
              "#bd3786"
             ],
             [
              0.5555555555555556,
              "#d8576b"
             ],
             [
              0.6666666666666666,
              "#ed7953"
             ],
             [
              0.7777777777777778,
              "#fb9f3a"
             ],
             [
              0.8888888888888888,
              "#fdca26"
             ],
             [
              1,
              "#f0f921"
             ]
            ],
            "type": "surface"
           }
          ],
          "table": [
           {
            "cells": {
             "fill": {
              "color": "#EBF0F8"
             },
             "line": {
              "color": "white"
             }
            },
            "header": {
             "fill": {
              "color": "#C8D4E3"
             },
             "line": {
              "color": "white"
             }
            },
            "type": "table"
           }
          ]
         },
         "layout": {
          "annotationdefaults": {
           "arrowcolor": "#2a3f5f",
           "arrowhead": 0,
           "arrowwidth": 1
          },
          "coloraxis": {
           "colorbar": {
            "outlinewidth": 0,
            "ticks": ""
           }
          },
          "colorscale": {
           "diverging": [
            [
             0,
             "#8e0152"
            ],
            [
             0.1,
             "#c51b7d"
            ],
            [
             0.2,
             "#de77ae"
            ],
            [
             0.3,
             "#f1b6da"
            ],
            [
             0.4,
             "#fde0ef"
            ],
            [
             0.5,
             "#f7f7f7"
            ],
            [
             0.6,
             "#e6f5d0"
            ],
            [
             0.7,
             "#b8e186"
            ],
            [
             0.8,
             "#7fbc41"
            ],
            [
             0.9,
             "#4d9221"
            ],
            [
             1,
             "#276419"
            ]
           ],
           "sequential": [
            [
             0,
             "#0d0887"
            ],
            [
             0.1111111111111111,
             "#46039f"
            ],
            [
             0.2222222222222222,
             "#7201a8"
            ],
            [
             0.3333333333333333,
             "#9c179e"
            ],
            [
             0.4444444444444444,
             "#bd3786"
            ],
            [
             0.5555555555555556,
             "#d8576b"
            ],
            [
             0.6666666666666666,
             "#ed7953"
            ],
            [
             0.7777777777777778,
             "#fb9f3a"
            ],
            [
             0.8888888888888888,
             "#fdca26"
            ],
            [
             1,
             "#f0f921"
            ]
           ],
           "sequentialminus": [
            [
             0,
             "#0d0887"
            ],
            [
             0.1111111111111111,
             "#46039f"
            ],
            [
             0.2222222222222222,
             "#7201a8"
            ],
            [
             0.3333333333333333,
             "#9c179e"
            ],
            [
             0.4444444444444444,
             "#bd3786"
            ],
            [
             0.5555555555555556,
             "#d8576b"
            ],
            [
             0.6666666666666666,
             "#ed7953"
            ],
            [
             0.7777777777777778,
             "#fb9f3a"
            ],
            [
             0.8888888888888888,
             "#fdca26"
            ],
            [
             1,
             "#f0f921"
            ]
           ]
          },
          "colorway": [
           "#636efa",
           "#EF553B",
           "#00cc96",
           "#ab63fa",
           "#FFA15A",
           "#19d3f3",
           "#FF6692",
           "#B6E880",
           "#FF97FF",
           "#FECB52"
          ],
          "font": {
           "color": "#2a3f5f"
          },
          "geo": {
           "bgcolor": "white",
           "lakecolor": "white",
           "landcolor": "#E5ECF6",
           "showlakes": true,
           "showland": true,
           "subunitcolor": "white"
          },
          "hoverlabel": {
           "align": "left"
          },
          "hovermode": "closest",
          "mapbox": {
           "style": "light"
          },
          "paper_bgcolor": "white",
          "plot_bgcolor": "#E5ECF6",
          "polar": {
           "angularaxis": {
            "gridcolor": "white",
            "linecolor": "white",
            "ticks": ""
           },
           "bgcolor": "#E5ECF6",
           "radialaxis": {
            "gridcolor": "white",
            "linecolor": "white",
            "ticks": ""
           }
          },
          "scene": {
           "xaxis": {
            "backgroundcolor": "#E5ECF6",
            "gridcolor": "white",
            "gridwidth": 2,
            "linecolor": "white",
            "showbackground": true,
            "ticks": "",
            "zerolinecolor": "white"
           },
           "yaxis": {
            "backgroundcolor": "#E5ECF6",
            "gridcolor": "white",
            "gridwidth": 2,
            "linecolor": "white",
            "showbackground": true,
            "ticks": "",
            "zerolinecolor": "white"
           },
           "zaxis": {
            "backgroundcolor": "#E5ECF6",
            "gridcolor": "white",
            "gridwidth": 2,
            "linecolor": "white",
            "showbackground": true,
            "ticks": "",
            "zerolinecolor": "white"
           }
          },
          "shapedefaults": {
           "line": {
            "color": "#2a3f5f"
           }
          },
          "ternary": {
           "aaxis": {
            "gridcolor": "white",
            "linecolor": "white",
            "ticks": ""
           },
           "baxis": {
            "gridcolor": "white",
            "linecolor": "white",
            "ticks": ""
           },
           "bgcolor": "#E5ECF6",
           "caxis": {
            "gridcolor": "white",
            "linecolor": "white",
            "ticks": ""
           }
          },
          "title": {
           "x": 0.05
          },
          "xaxis": {
           "automargin": true,
           "gridcolor": "white",
           "linecolor": "white",
           "ticks": "",
           "title": {
            "standoff": 15
           },
           "zerolinecolor": "white",
           "zerolinewidth": 2
          },
          "yaxis": {
           "automargin": true,
           "gridcolor": "white",
           "linecolor": "white",
           "ticks": "",
           "title": {
            "standoff": 15
           },
           "zerolinecolor": "white",
           "zerolinewidth": 2
          }
         }
        },
        "xaxis": {
         "anchor": "y",
         "domain": [
          0,
          1
         ],
         "title": {
          "text": "Regression_Model"
         }
        },
        "yaxis": {
         "anchor": "x",
         "domain": [
          0,
          1
         ],
         "title": {
          "text": "mape_error"
         }
        }
       }
      },
      "text/html": [
       "<div>\n",
       "        \n",
       "        \n",
       "            <div id=\"bc41eef5-c966-4bf0-ad43-61d4a1700b13\" class=\"plotly-graph-div\" style=\"height:525px; width:100%;\"></div>\n",
       "            <script type=\"text/javascript\">\n",
       "                require([\"plotly\"], function(Plotly) {\n",
       "                    window.PLOTLYENV=window.PLOTLYENV || {};\n",
       "                    \n",
       "                if (document.getElementById(\"bc41eef5-c966-4bf0-ad43-61d4a1700b13\")) {\n",
       "                    Plotly.newPlot(\n",
       "                        'bc41eef5-c966-4bf0-ad43-61d4a1700b13',\n",
       "                        [{\"alignmentgroup\": \"True\", \"hoverlabel\": {\"namelength\": 0}, \"hovertemplate\": \"Regression_Model=%{x}<br>mape_error=%{y}\", \"legendgroup\": \"\", \"marker\": {\"color\": \"#636efa\"}, \"name\": \"\", \"offsetgroup\": \"\", \"orientation\": \"v\", \"showlegend\": false, \"textposition\": \"auto\", \"type\": \"bar\", \"x\": [\"TPOTRegression\", \"LinearRegression\", \"LassoRegression\", \"SVMRegression\", \"AdaBoostRegression\", \"RandomForest\", \"GradientBoosting\", \"KNeighborsRegressor\"], \"xaxis\": \"x\", \"y\": [4.677797465978681, 11.089962489324051, 11.100982166281002, 6.932807280735917, 14.228902590667614, 3.8714333392348013, 7.891107082301514, 2.9926605441791927], \"yaxis\": \"y\"}],\n",
       "                        {\"barmode\": \"relative\", \"legend\": {\"tracegroupgap\": 0}, \"margin\": {\"t\": 60}, \"template\": {\"data\": {\"bar\": [{\"error_x\": {\"color\": \"#2a3f5f\"}, \"error_y\": {\"color\": \"#2a3f5f\"}, \"marker\": {\"line\": {\"color\": \"#E5ECF6\", \"width\": 0.5}}, \"type\": \"bar\"}], \"barpolar\": [{\"marker\": {\"line\": {\"color\": \"#E5ECF6\", \"width\": 0.5}}, \"type\": \"barpolar\"}], \"carpet\": [{\"aaxis\": {\"endlinecolor\": \"#2a3f5f\", \"gridcolor\": \"white\", \"linecolor\": \"white\", \"minorgridcolor\": \"white\", \"startlinecolor\": \"#2a3f5f\"}, \"baxis\": {\"endlinecolor\": \"#2a3f5f\", \"gridcolor\": \"white\", \"linecolor\": \"white\", \"minorgridcolor\": \"white\", \"startlinecolor\": \"#2a3f5f\"}, \"type\": \"carpet\"}], \"choropleth\": [{\"colorbar\": {\"outlinewidth\": 0, \"ticks\": \"\"}, \"type\": \"choropleth\"}], \"contour\": [{\"colorbar\": {\"outlinewidth\": 0, \"ticks\": \"\"}, \"colorscale\": [[0.0, \"#0d0887\"], [0.1111111111111111, \"#46039f\"], [0.2222222222222222, \"#7201a8\"], [0.3333333333333333, \"#9c179e\"], [0.4444444444444444, \"#bd3786\"], [0.5555555555555556, \"#d8576b\"], [0.6666666666666666, \"#ed7953\"], [0.7777777777777778, \"#fb9f3a\"], [0.8888888888888888, \"#fdca26\"], [1.0, \"#f0f921\"]], \"type\": \"contour\"}], \"contourcarpet\": [{\"colorbar\": {\"outlinewidth\": 0, \"ticks\": \"\"}, \"type\": \"contourcarpet\"}], \"heatmap\": [{\"colorbar\": {\"outlinewidth\": 0, \"ticks\": \"\"}, \"colorscale\": [[0.0, \"#0d0887\"], [0.1111111111111111, \"#46039f\"], [0.2222222222222222, \"#7201a8\"], [0.3333333333333333, \"#9c179e\"], [0.4444444444444444, \"#bd3786\"], [0.5555555555555556, \"#d8576b\"], [0.6666666666666666, \"#ed7953\"], [0.7777777777777778, \"#fb9f3a\"], [0.8888888888888888, \"#fdca26\"], [1.0, \"#f0f921\"]], \"type\": \"heatmap\"}], \"heatmapgl\": [{\"colorbar\": {\"outlinewidth\": 0, \"ticks\": \"\"}, \"colorscale\": [[0.0, \"#0d0887\"], [0.1111111111111111, \"#46039f\"], [0.2222222222222222, \"#7201a8\"], [0.3333333333333333, \"#9c179e\"], [0.4444444444444444, \"#bd3786\"], [0.5555555555555556, \"#d8576b\"], [0.6666666666666666, \"#ed7953\"], [0.7777777777777778, \"#fb9f3a\"], [0.8888888888888888, \"#fdca26\"], [1.0, \"#f0f921\"]], \"type\": \"heatmapgl\"}], \"histogram\": [{\"marker\": {\"colorbar\": {\"outlinewidth\": 0, \"ticks\": \"\"}}, \"type\": \"histogram\"}], \"histogram2d\": [{\"colorbar\": {\"outlinewidth\": 0, \"ticks\": \"\"}, \"colorscale\": [[0.0, \"#0d0887\"], [0.1111111111111111, \"#46039f\"], [0.2222222222222222, \"#7201a8\"], [0.3333333333333333, \"#9c179e\"], [0.4444444444444444, \"#bd3786\"], [0.5555555555555556, \"#d8576b\"], [0.6666666666666666, \"#ed7953\"], [0.7777777777777778, \"#fb9f3a\"], [0.8888888888888888, \"#fdca26\"], [1.0, \"#f0f921\"]], \"type\": \"histogram2d\"}], \"histogram2dcontour\": [{\"colorbar\": {\"outlinewidth\": 0, \"ticks\": \"\"}, \"colorscale\": [[0.0, \"#0d0887\"], [0.1111111111111111, \"#46039f\"], [0.2222222222222222, \"#7201a8\"], [0.3333333333333333, \"#9c179e\"], [0.4444444444444444, \"#bd3786\"], [0.5555555555555556, \"#d8576b\"], [0.6666666666666666, \"#ed7953\"], [0.7777777777777778, \"#fb9f3a\"], [0.8888888888888888, \"#fdca26\"], [1.0, \"#f0f921\"]], \"type\": \"histogram2dcontour\"}], \"mesh3d\": [{\"colorbar\": {\"outlinewidth\": 0, \"ticks\": \"\"}, \"type\": \"mesh3d\"}], \"parcoords\": [{\"line\": {\"colorbar\": {\"outlinewidth\": 0, \"ticks\": \"\"}}, \"type\": \"parcoords\"}], \"pie\": [{\"automargin\": true, \"type\": \"pie\"}], \"scatter\": [{\"marker\": {\"colorbar\": {\"outlinewidth\": 0, \"ticks\": \"\"}}, \"type\": \"scatter\"}], \"scatter3d\": [{\"line\": {\"colorbar\": {\"outlinewidth\": 0, \"ticks\": \"\"}}, \"marker\": {\"colorbar\": {\"outlinewidth\": 0, \"ticks\": \"\"}}, \"type\": \"scatter3d\"}], \"scattercarpet\": [{\"marker\": {\"colorbar\": {\"outlinewidth\": 0, \"ticks\": \"\"}}, \"type\": \"scattercarpet\"}], \"scattergeo\": [{\"marker\": {\"colorbar\": {\"outlinewidth\": 0, \"ticks\": \"\"}}, \"type\": \"scattergeo\"}], \"scattergl\": [{\"marker\": {\"colorbar\": {\"outlinewidth\": 0, \"ticks\": \"\"}}, \"type\": \"scattergl\"}], \"scattermapbox\": [{\"marker\": {\"colorbar\": {\"outlinewidth\": 0, \"ticks\": \"\"}}, \"type\": \"scattermapbox\"}], \"scatterpolar\": [{\"marker\": {\"colorbar\": {\"outlinewidth\": 0, \"ticks\": \"\"}}, \"type\": \"scatterpolar\"}], \"scatterpolargl\": [{\"marker\": {\"colorbar\": {\"outlinewidth\": 0, \"ticks\": \"\"}}, \"type\": \"scatterpolargl\"}], \"scatterternary\": [{\"marker\": {\"colorbar\": {\"outlinewidth\": 0, \"ticks\": \"\"}}, \"type\": \"scatterternary\"}], \"surface\": [{\"colorbar\": {\"outlinewidth\": 0, \"ticks\": \"\"}, \"colorscale\": [[0.0, \"#0d0887\"], [0.1111111111111111, \"#46039f\"], [0.2222222222222222, \"#7201a8\"], [0.3333333333333333, \"#9c179e\"], [0.4444444444444444, \"#bd3786\"], [0.5555555555555556, \"#d8576b\"], [0.6666666666666666, \"#ed7953\"], [0.7777777777777778, \"#fb9f3a\"], [0.8888888888888888, \"#fdca26\"], [1.0, \"#f0f921\"]], \"type\": \"surface\"}], \"table\": [{\"cells\": {\"fill\": {\"color\": \"#EBF0F8\"}, \"line\": {\"color\": \"white\"}}, \"header\": {\"fill\": {\"color\": \"#C8D4E3\"}, \"line\": {\"color\": \"white\"}}, \"type\": \"table\"}]}, \"layout\": {\"annotationdefaults\": {\"arrowcolor\": \"#2a3f5f\", \"arrowhead\": 0, \"arrowwidth\": 1}, \"coloraxis\": {\"colorbar\": {\"outlinewidth\": 0, \"ticks\": \"\"}}, \"colorscale\": {\"diverging\": [[0, \"#8e0152\"], [0.1, \"#c51b7d\"], [0.2, \"#de77ae\"], [0.3, \"#f1b6da\"], [0.4, \"#fde0ef\"], [0.5, \"#f7f7f7\"], [0.6, \"#e6f5d0\"], [0.7, \"#b8e186\"], [0.8, \"#7fbc41\"], [0.9, \"#4d9221\"], [1, \"#276419\"]], \"sequential\": [[0.0, \"#0d0887\"], [0.1111111111111111, \"#46039f\"], [0.2222222222222222, \"#7201a8\"], [0.3333333333333333, \"#9c179e\"], [0.4444444444444444, \"#bd3786\"], [0.5555555555555556, \"#d8576b\"], [0.6666666666666666, \"#ed7953\"], [0.7777777777777778, \"#fb9f3a\"], [0.8888888888888888, \"#fdca26\"], [1.0, \"#f0f921\"]], \"sequentialminus\": [[0.0, \"#0d0887\"], [0.1111111111111111, \"#46039f\"], [0.2222222222222222, \"#7201a8\"], [0.3333333333333333, \"#9c179e\"], [0.4444444444444444, \"#bd3786\"], [0.5555555555555556, \"#d8576b\"], [0.6666666666666666, \"#ed7953\"], [0.7777777777777778, \"#fb9f3a\"], [0.8888888888888888, \"#fdca26\"], [1.0, \"#f0f921\"]]}, \"colorway\": [\"#636efa\", \"#EF553B\", \"#00cc96\", \"#ab63fa\", \"#FFA15A\", \"#19d3f3\", \"#FF6692\", \"#B6E880\", \"#FF97FF\", \"#FECB52\"], \"font\": {\"color\": \"#2a3f5f\"}, \"geo\": {\"bgcolor\": \"white\", \"lakecolor\": \"white\", \"landcolor\": \"#E5ECF6\", \"showlakes\": true, \"showland\": true, \"subunitcolor\": \"white\"}, \"hoverlabel\": {\"align\": \"left\"}, \"hovermode\": \"closest\", \"mapbox\": {\"style\": \"light\"}, \"paper_bgcolor\": \"white\", \"plot_bgcolor\": \"#E5ECF6\", \"polar\": {\"angularaxis\": {\"gridcolor\": \"white\", \"linecolor\": \"white\", \"ticks\": \"\"}, \"bgcolor\": \"#E5ECF6\", \"radialaxis\": {\"gridcolor\": \"white\", \"linecolor\": \"white\", \"ticks\": \"\"}}, \"scene\": {\"xaxis\": {\"backgroundcolor\": \"#E5ECF6\", \"gridcolor\": \"white\", \"gridwidth\": 2, \"linecolor\": \"white\", \"showbackground\": true, \"ticks\": \"\", \"zerolinecolor\": \"white\"}, \"yaxis\": {\"backgroundcolor\": \"#E5ECF6\", \"gridcolor\": \"white\", \"gridwidth\": 2, \"linecolor\": \"white\", \"showbackground\": true, \"ticks\": \"\", \"zerolinecolor\": \"white\"}, \"zaxis\": {\"backgroundcolor\": \"#E5ECF6\", \"gridcolor\": \"white\", \"gridwidth\": 2, \"linecolor\": \"white\", \"showbackground\": true, \"ticks\": \"\", \"zerolinecolor\": \"white\"}}, \"shapedefaults\": {\"line\": {\"color\": \"#2a3f5f\"}}, \"ternary\": {\"aaxis\": {\"gridcolor\": \"white\", \"linecolor\": \"white\", \"ticks\": \"\"}, \"baxis\": {\"gridcolor\": \"white\", \"linecolor\": \"white\", \"ticks\": \"\"}, \"bgcolor\": \"#E5ECF6\", \"caxis\": {\"gridcolor\": \"white\", \"linecolor\": \"white\", \"ticks\": \"\"}}, \"title\": {\"x\": 0.05}, \"xaxis\": {\"automargin\": true, \"gridcolor\": \"white\", \"linecolor\": \"white\", \"ticks\": \"\", \"title\": {\"standoff\": 15}, \"zerolinecolor\": \"white\", \"zerolinewidth\": 2}, \"yaxis\": {\"automargin\": true, \"gridcolor\": \"white\", \"linecolor\": \"white\", \"ticks\": \"\", \"title\": {\"standoff\": 15}, \"zerolinecolor\": \"white\", \"zerolinewidth\": 2}}}, \"xaxis\": {\"anchor\": \"y\", \"domain\": [0.0, 1.0], \"title\": {\"text\": \"Regression_Model\"}}, \"yaxis\": {\"anchor\": \"x\", \"domain\": [0.0, 1.0], \"title\": {\"text\": \"mape_error\"}}},\n",
       "                        {\"responsive\": true}\n",
       "                    ).then(function(){\n",
       "                            \n",
       "var gd = document.getElementById('bc41eef5-c966-4bf0-ad43-61d4a1700b13');\n",
       "var x = new MutationObserver(function (mutations, observer) {{\n",
       "        var display = window.getComputedStyle(gd).display;\n",
       "        if (!display || display === 'none') {{\n",
       "            console.log([gd, 'removed!']);\n",
       "            Plotly.purge(gd);\n",
       "            observer.disconnect();\n",
       "        }}\n",
       "}});\n",
       "\n",
       "// Listen for the removal of the full notebook cells\n",
       "var notebookContainer = gd.closest('#notebook-container');\n",
       "if (notebookContainer) {{\n",
       "    x.observe(notebookContainer, {childList: true});\n",
       "}}\n",
       "\n",
       "// Listen for the clearing of the current output cell\n",
       "var outputEl = gd.closest('.output');\n",
       "if (outputEl) {{\n",
       "    x.observe(outputEl, {childList: true});\n",
       "}}\n",
       "\n",
       "                        })\n",
       "                };\n",
       "                });\n",
       "            </script>\n",
       "        </div>"
      ]
     },
     "metadata": {},
     "output_type": "display_data"
    }
   ],
   "source": [
    "import plotly.express as px\n",
    "fig =  px.bar(eval_data, x='Regression_Model', y='mape_error')\n",
    "fig.show()"
   ]
  },
  {
   "cell_type": "markdown",
   "metadata": {},
   "source": [
    "# Classification"
   ]
  },
  {
   "cell_type": "code",
   "execution_count": null,
   "metadata": {},
   "outputs": [],
   "source": [
    "cdata = pd.read_csv('pcb_data.csv')\n",
    "cdata.head()"
   ]
  },
  {
   "cell_type": "markdown",
   "metadata": {},
   "source": [
    "This Method runs the TPOT algorithm and returns the results\n",
    "\n",
    "**:param filename**: (string) data filename\\\n",
    "**:param split_strategy**: (string) random or stratified sampling criteria\\\n",
    "**:param testsize**: (float) test size to used\\\n",
    "**:param seed**: (int) seed to be used for reproducibility\\\n",
    "**:param target_col**: (string) target column to be mentioned\\\n",
    "**:param internal_eval_metric**: (string) internal evaluation metric (r2, neg_mse, neg_mae, etc.)\\\n",
    "**:param generation**: (int) Number of iterations to the run pipeline optimization process\\\n",
    "**:param pop_size**: (int) Number of individuals to retain in the genetic programming population every generation\\\n",
    "**:param cpu_cores**: (int) number of cpu cores to be used\\\n",
    "**:param num_class**: (string) binary or multi-class classification to be specified\\\n",
    "**:param sample_strategy**: (string) upsample/downsample/nosample strategy fro binary classification\\\n",
    "**:param cat_col_names**: (string array) categorical column names\\\n",
    "**:param stratify_col**: (string) column to be used for stratified sampling\\\n",
    "**:param warmstart**: (boolean) Flag indicating whether the TPOT will reuse the population from previous calls to fit() (optional)\\\n",
    "**:param earlystop**: (int) How many generations TPOT checks whether there is no improvement in optimization process (optional)\\\n",
    "**:param cv_fold**: (int) specify the cv folds (optional)\n",
    "\n",
    "**:return**: returns model results, a .py file having the final pipeline and a xlsx file having predictions on test data"
   ]
  },
  {
   "cell_type": "code",
   "execution_count": null,
   "metadata": {},
   "outputs": [],
   "source": [
    "results = tpot_classification(filename = 'pcb_data.csv',\n",
    "                              split_strategy = 'stratified',\n",
    "                              testsize = 0.3,\n",
    "                              seed = 24,\n",
    "                              target_col = 'Product class',\n",
    "                              internal_eval_metric = 'f1_weighted',\n",
    "                              generation = 6,\n",
    "                              pop_size = 10,\n",
    "                              cpu_cores = 1,\n",
    "                              num_class = 'multi',\n",
    "                              sample_strategy='nosample',\n",
    "                              cat_col_names = ['has_cooling_layer_a','has_cooling_layer_b','is_via','is_viap'],\n",
    "                              stratify_col = 'Product class',\n",
    "                              #earlystop = 3,\n",
    "                              cv_fold = 5)"
   ]
  },
  {
   "cell_type": "code",
   "execution_count": null,
   "metadata": {},
   "outputs": [],
   "source": []
  }
 ],
 "metadata": {
  "kernelspec": {
   "display_name": "Python 3 (ipykernel)",
   "language": "python",
   "name": "python3"
  },
  "language_info": {
   "codemirror_mode": {
    "name": "ipython",
    "version": 3
   },
   "file_extension": ".py",
   "mimetype": "text/x-python",
   "name": "python",
   "nbconvert_exporter": "python",
   "pygments_lexer": "ipython3",
   "version": "3.9.7"
  }
 },
 "nbformat": 4,
 "nbformat_minor": 2
}
