{
 "cells": [
  {
   "cell_type": "code",
   "execution_count": 1,
   "metadata": {},
   "outputs": [],
   "source": [
    "import numpy as np\n",
    "\n",
    "width = 5\n",
    "height = 4\n",
    "\n",
    "array = np.zeros([height, width, 3], dtype=np.uint8)"
   ]
  },
  {
   "cell_type": "code",
   "execution_count": 3,
   "metadata": {},
   "outputs": [],
   "source": [
    "array[:,:] = [255, 128, 0]"
   ]
  },
  {
   "cell_type": "code",
   "execution_count": 5,
   "metadata": {},
   "outputs": [],
   "source": [
    "from PIL import Image\n",
    "\n",
    "img = Image.fromarray(array)\n",
    "img.save('testrgb.png')"
   ]
  },
  {
   "cell_type": "code",
   "execution_count": 6,
   "metadata": {},
   "outputs": [],
   "source": [
    "import numpy as np\n",
    "from PIL import Image\n",
    "\n",
    "array = np.zeros([100, 200, 3], dtype=np.uint8)\n",
    "array[:,:100] = [255, 128, 0] #Orange left side\n",
    "array[:,100:] = [0, 0, 255]   #Blue right side\n",
    "\n",
    "img = Image.fromarray(array)\n",
    "img.save('testrgb.png')"
   ]
  },
  {
   "cell_type": "code",
   "execution_count": 8,
   "metadata": {},
   "outputs": [],
   "source": [
    "import numpy as np\n",
    "from PIL import Image\n",
    "\n",
    "array = np.zeros([100, 200, 4], dtype=np.uint8)\n",
    "array[:,:100] = [255, 128, 0, 255] #Orange left side\n",
    "array[:,100:] = [0, 0, 255, 255]   #Blue right side\n",
    "\n",
    "# Set transparency depending on x position\n",
    "for x in range(200):\n",
    "    for y in range(100):\n",
    "        array[y, x, 3] = x\n",
    "\n",
    "img = Image.fromarray(array)\n",
    "img.save('testrgba.png')"
   ]
  },
  {
   "cell_type": "code",
   "execution_count": null,
   "metadata": {},
   "outputs": [],
   "source": []
  }
 ],
 "metadata": {
  "kernelspec": {
   "display_name": "Python 3",
   "language": "python",
   "name": "python3"
  },
  "language_info": {
   "codemirror_mode": {
    "name": "ipython",
    "version": 3
   },
   "file_extension": ".py",
   "mimetype": "text/x-python",
   "name": "python",
   "nbconvert_exporter": "python",
   "pygments_lexer": "ipython3",
   "version": "3.6.4"
  }
 },
 "nbformat": 4,
 "nbformat_minor": 2
}
